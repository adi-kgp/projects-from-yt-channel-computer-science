{
 "cells": [
  {
   "cell_type": "markdown",
   "id": "8b2ec3b9-31bc-4587-9bb0-477d5188bbe4",
   "metadata": {},
   "source": [
    "## Summarize any text in minutes by Python's Natural Language Processing"
   ]
  },
  {
   "cell_type": "code",
   "execution_count": 1,
   "id": "8f37be58-d7e3-4ab4-9e5e-c91db210ac5f",
   "metadata": {},
   "outputs": [],
   "source": [
    "# Import the libraries\n",
    "import nltk\n",
    "from nltk.tokenize import sent_tokenize\n",
    "from nltk.stem import PorterStemmer\n",
    "from nltk.corpus import stopwords\n",
    "from heapq import nlargest"
   ]
  },
  {
   "cell_type": "code",
   "execution_count": 5,
   "id": "a78bbe2f-a096-476e-85ec-eb4c250d196c",
   "metadata": {
    "scrolled": true
   },
   "outputs": [
    {
     "name": "stderr",
     "output_type": "stream",
     "text": [
      "[nltk_data] Downloading package stopwords to /home/john/nltk_data...\n",
      "[nltk_data]   Package stopwords is already up-to-date!\n",
      "[nltk_data] Downloading package punkt_tab to /home/john/nltk_data...\n",
      "[nltk_data]   Unzipping tokenizers/punkt_tab.zip.\n"
     ]
    },
    {
     "data": {
      "text/plain": [
       "True"
      ]
     },
     "execution_count": 5,
     "metadata": {},
     "output_type": "execute_result"
    }
   ],
   "source": [
    "# Download the required stopwords and tokenizers \n",
    "nltk.download('stopwords')\n",
    "nltk.download('punkt_tab')"
   ]
  },
  {
   "cell_type": "code",
   "execution_count": 3,
   "id": "85a7eeb2-2e14-4378-8f39-42647dd27a29",
   "metadata": {},
   "outputs": [],
   "source": [
    "# Create a sample text to summarize\n",
    "text = \"\"\"\n",
    "    The quick brown fox jumped over the lazy dog. \n",
    "    The fox is running fast to catch its prey. Suddenly, it sees the prey and jumps over it. \n",
    "    The prey escapes and the fox continues to run. \n",
    "    The dog wakes up and barks at the fox. \n",
    "    The fox runs away and the dog goes back to sleep.\n",
    "\"\"\""
   ]
  },
  {
   "cell_type": "code",
   "execution_count": 7,
   "id": "d093062c-ec0f-460f-8881-3e19efd8d450",
   "metadata": {},
   "outputs": [],
   "source": [
    "# Tokenize the text into sentences\n",
    "sentences = sent_tokenize(text)"
   ]
  },
  {
   "cell_type": "code",
   "execution_count": 8,
   "id": "f6aeff44-b38f-49c1-89f2-73a14d4f567d",
   "metadata": {},
   "outputs": [],
   "source": [
    "# Remove stopwords and stem the words in each sentence\n",
    "stemmer = PorterStemmer()\n",
    "stop_words = set(stopwords.words('english'))\n",
    "words = []\n",
    "for sentence in sentences:\n",
    "    for word in nltk.word_tokenize(sentence):\n",
    "        if word not in stop_words and word.isalpha():\n",
    "            words.append(stemmer.stem(word))"
   ]
  },
  {
   "cell_type": "code",
   "execution_count": 9,
   "id": "dc80d3ff-88fc-4abf-a759-cc64a7ac33aa",
   "metadata": {},
   "outputs": [],
   "source": [
    "# Get the count of frequency of each word in the text\n",
    "freq_dist = nltk.FreqDist(words)"
   ]
  },
  {
   "cell_type": "code",
   "execution_count": 10,
   "id": "cd26b08b-0a20-4dc0-9cae-f388adb9846b",
   "metadata": {},
   "outputs": [],
   "source": [
    "# Get the top 10 most frequent words in the text\n",
    "top_words = [word[0] for word in freq_dist.most_common(10)]"
   ]
  },
  {
   "cell_type": "code",
   "execution_count": 11,
   "id": "d7c32573-b966-4b6d-8354-a23c52d77e8a",
   "metadata": {},
   "outputs": [
    {
     "name": "stdout",
     "output_type": "stream",
     "text": [
      "\n",
      "    The quick brown fox jumped over the lazy dog.\n",
      "The fox is running fast to catch its prey.\n",
      "The prey escapes and the fox continues to run.\n"
     ]
    }
   ],
   "source": [
    "# Create a summary by selecting the 3 sentences with the most frequent words\n",
    "summary = []\n",
    "for sentence in sentences:\n",
    "    sentence_words = nltk.word_tokenize(sentence.lower())\n",
    "    sentence_score = 0\n",
    "    for word in sentence_words:\n",
    "        if stemmer.stem(word) in top_words:\n",
    "            sentence_score += 1\n",
    "    summary.append((sentence, sentence_score))\n",
    "\n",
    "# Print the summary\n",
    "for sentence in nlargest(3, summary, key=lambda x: x[1]):\n",
    "    print(sentence[0])"
   ]
  },
  {
   "cell_type": "code",
   "execution_count": null,
   "id": "20fcc3ae-70d0-4cc0-96ba-26c903971842",
   "metadata": {},
   "outputs": [],
   "source": []
  },
  {
   "cell_type": "code",
   "execution_count": null,
   "id": "7cfd89dd-a847-4064-97c1-45a64f24fe53",
   "metadata": {},
   "outputs": [],
   "source": []
  },
  {
   "cell_type": "code",
   "execution_count": null,
   "id": "f76c08e8-47ab-4b19-8f74-b58812436ebc",
   "metadata": {},
   "outputs": [],
   "source": []
  }
 ],
 "metadata": {
  "kernelspec": {
   "display_name": "Python 3 (ipykernel)",
   "language": "python",
   "name": "python3"
  },
  "language_info": {
   "codemirror_mode": {
    "name": "ipython",
    "version": 3
   },
   "file_extension": ".py",
   "mimetype": "text/x-python",
   "name": "python",
   "nbconvert_exporter": "python",
   "pygments_lexer": "ipython3",
   "version": "3.12.7"
  }
 },
 "nbformat": 4,
 "nbformat_minor": 5
}
