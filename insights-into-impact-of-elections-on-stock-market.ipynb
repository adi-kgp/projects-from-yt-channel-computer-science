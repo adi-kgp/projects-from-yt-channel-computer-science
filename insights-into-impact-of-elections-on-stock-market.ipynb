{
 "cells": [
  {
   "cell_type": "markdown",
   "id": "ec162157-ba6a-428e-8e9b-c75138637eb9",
   "metadata": {},
   "source": [
    "## Insights Into Impact of US Elections on Stock Market "
   ]
  },
  {
   "cell_type": "markdown",
   "id": "8a8d1ea3-0f68-4fee-afeb-8e0d6bb22ae6",
   "metadata": {},
   "source": [
    "##### Description: This code shows the stock market returns during a US election"
   ]
  },
  {
   "cell_type": "code",
   "execution_count": 2,
   "id": "d9fb68d4-63a7-4519-aed6-ca27aff74cc8",
   "metadata": {},
   "outputs": [],
   "source": [
    "# Import the libraries\n",
    "import pandas as pd\n",
    "import numpy as np\n",
    "import yfinance as yf\n",
    "import matplotlib.pyplot as plt"
   ]
  },
  {
   "cell_type": "code",
   "execution_count": 16,
   "id": "130b6e16-87bf-4d09-b894-d5629da0f726",
   "metadata": {},
   "outputs": [
    {
     "name": "stderr",
     "output_type": "stream",
     "text": [
      "[*********************100%***********************]  1 of 1 completed\n"
     ]
    },
    {
     "data": {
      "text/html": [
       "<div>\n",
       "<style scoped>\n",
       "    .dataframe tbody tr th:only-of-type {\n",
       "        vertical-align: middle;\n",
       "    }\n",
       "\n",
       "    .dataframe tbody tr th {\n",
       "        vertical-align: top;\n",
       "    }\n",
       "\n",
       "    .dataframe thead th {\n",
       "        text-align: right;\n",
       "    }\n",
       "</style>\n",
       "<table border=\"1\" class=\"dataframe\">\n",
       "  <thead>\n",
       "    <tr style=\"text-align: right;\">\n",
       "      <th>Price</th>\n",
       "      <th>Adj Close</th>\n",
       "      <th>Close</th>\n",
       "      <th>High</th>\n",
       "      <th>Low</th>\n",
       "      <th>Open</th>\n",
       "      <th>Volume</th>\n",
       "    </tr>\n",
       "    <tr>\n",
       "      <th>Date</th>\n",
       "      <th></th>\n",
       "      <th></th>\n",
       "      <th></th>\n",
       "      <th></th>\n",
       "      <th></th>\n",
       "      <th></th>\n",
       "    </tr>\n",
       "  </thead>\n",
       "  <tbody>\n",
       "    <tr>\n",
       "      <th>1952-01-02 00:00:00+00:00</th>\n",
       "      <td>23.799999</td>\n",
       "      <td>23.799999</td>\n",
       "      <td>23.799999</td>\n",
       "      <td>23.799999</td>\n",
       "      <td>23.799999</td>\n",
       "      <td>1070000</td>\n",
       "    </tr>\n",
       "    <tr>\n",
       "      <th>1952-01-03 00:00:00+00:00</th>\n",
       "      <td>23.879999</td>\n",
       "      <td>23.879999</td>\n",
       "      <td>23.879999</td>\n",
       "      <td>23.879999</td>\n",
       "      <td>23.879999</td>\n",
       "      <td>1220000</td>\n",
       "    </tr>\n",
       "    <tr>\n",
       "      <th>1952-01-04 00:00:00+00:00</th>\n",
       "      <td>23.920000</td>\n",
       "      <td>23.920000</td>\n",
       "      <td>23.920000</td>\n",
       "      <td>23.920000</td>\n",
       "      <td>23.920000</td>\n",
       "      <td>1480000</td>\n",
       "    </tr>\n",
       "    <tr>\n",
       "      <th>1952-01-07 00:00:00+00:00</th>\n",
       "      <td>23.910000</td>\n",
       "      <td>23.910000</td>\n",
       "      <td>23.910000</td>\n",
       "      <td>23.910000</td>\n",
       "      <td>23.910000</td>\n",
       "      <td>1540000</td>\n",
       "    </tr>\n",
       "    <tr>\n",
       "      <th>1952-01-08 00:00:00+00:00</th>\n",
       "      <td>23.820000</td>\n",
       "      <td>23.820000</td>\n",
       "      <td>23.820000</td>\n",
       "      <td>23.820000</td>\n",
       "      <td>23.820000</td>\n",
       "      <td>1390000</td>\n",
       "    </tr>\n",
       "    <tr>\n",
       "      <th>...</th>\n",
       "      <td>...</td>\n",
       "      <td>...</td>\n",
       "      <td>...</td>\n",
       "      <td>...</td>\n",
       "      <td>...</td>\n",
       "      <td>...</td>\n",
       "    </tr>\n",
       "    <tr>\n",
       "      <th>2023-12-22 00:00:00+00:00</th>\n",
       "      <td>4754.629883</td>\n",
       "      <td>4754.629883</td>\n",
       "      <td>4772.939941</td>\n",
       "      <td>4736.770020</td>\n",
       "      <td>4753.919922</td>\n",
       "      <td>3046770000</td>\n",
       "    </tr>\n",
       "    <tr>\n",
       "      <th>2023-12-26 00:00:00+00:00</th>\n",
       "      <td>4774.750000</td>\n",
       "      <td>4774.750000</td>\n",
       "      <td>4784.720215</td>\n",
       "      <td>4758.450195</td>\n",
       "      <td>4758.859863</td>\n",
       "      <td>2513910000</td>\n",
       "    </tr>\n",
       "    <tr>\n",
       "      <th>2023-12-27 00:00:00+00:00</th>\n",
       "      <td>4781.580078</td>\n",
       "      <td>4781.580078</td>\n",
       "      <td>4785.390137</td>\n",
       "      <td>4768.899902</td>\n",
       "      <td>4773.450195</td>\n",
       "      <td>2748450000</td>\n",
       "    </tr>\n",
       "    <tr>\n",
       "      <th>2023-12-28 00:00:00+00:00</th>\n",
       "      <td>4783.350098</td>\n",
       "      <td>4783.350098</td>\n",
       "      <td>4793.299805</td>\n",
       "      <td>4780.979980</td>\n",
       "      <td>4786.439941</td>\n",
       "      <td>2698860000</td>\n",
       "    </tr>\n",
       "    <tr>\n",
       "      <th>2023-12-29 00:00:00+00:00</th>\n",
       "      <td>4769.830078</td>\n",
       "      <td>4769.830078</td>\n",
       "      <td>4788.430176</td>\n",
       "      <td>4751.990234</td>\n",
       "      <td>4782.879883</td>\n",
       "      <td>3126060000</td>\n",
       "    </tr>\n",
       "  </tbody>\n",
       "</table>\n",
       "<p>18121 rows × 6 columns</p>\n",
       "</div>"
      ],
      "text/plain": [
       "Price                        Adj Close        Close         High          Low  \\\n",
       "Date                                                                            \n",
       "1952-01-02 00:00:00+00:00    23.799999    23.799999    23.799999    23.799999   \n",
       "1952-01-03 00:00:00+00:00    23.879999    23.879999    23.879999    23.879999   \n",
       "1952-01-04 00:00:00+00:00    23.920000    23.920000    23.920000    23.920000   \n",
       "1952-01-07 00:00:00+00:00    23.910000    23.910000    23.910000    23.910000   \n",
       "1952-01-08 00:00:00+00:00    23.820000    23.820000    23.820000    23.820000   \n",
       "...                                ...          ...          ...          ...   \n",
       "2023-12-22 00:00:00+00:00  4754.629883  4754.629883  4772.939941  4736.770020   \n",
       "2023-12-26 00:00:00+00:00  4774.750000  4774.750000  4784.720215  4758.450195   \n",
       "2023-12-27 00:00:00+00:00  4781.580078  4781.580078  4785.390137  4768.899902   \n",
       "2023-12-28 00:00:00+00:00  4783.350098  4783.350098  4793.299805  4780.979980   \n",
       "2023-12-29 00:00:00+00:00  4769.830078  4769.830078  4788.430176  4751.990234   \n",
       "\n",
       "Price                             Open      Volume  \n",
       "Date                                                \n",
       "1952-01-02 00:00:00+00:00    23.799999     1070000  \n",
       "1952-01-03 00:00:00+00:00    23.879999     1220000  \n",
       "1952-01-04 00:00:00+00:00    23.920000     1480000  \n",
       "1952-01-07 00:00:00+00:00    23.910000     1540000  \n",
       "1952-01-08 00:00:00+00:00    23.820000     1390000  \n",
       "...                                ...         ...  \n",
       "2023-12-22 00:00:00+00:00  4753.919922  3046770000  \n",
       "2023-12-26 00:00:00+00:00  4758.859863  2513910000  \n",
       "2023-12-27 00:00:00+00:00  4773.450195  2748450000  \n",
       "2023-12-28 00:00:00+00:00  4786.439941  2698860000  \n",
       "2023-12-29 00:00:00+00:00  4782.879883  3126060000  \n",
       "\n",
       "[18121 rows x 6 columns]"
      ]
     },
     "execution_count": 16,
     "metadata": {},
     "output_type": "execute_result"
    }
   ],
   "source": [
    "# Load the SP500 data\n",
    "sp500 = yf.download(\"^GSPC\", start=\"1952-01-02\", end=\"2023-12-30\")\n",
    "sp500 = sp500.droplevel(level=1, axis=1)\n",
    "# Show the data\n",
    "sp500"
   ]
  },
  {
   "cell_type": "code",
   "execution_count": 17,
   "id": "69e1880a-9260-47ad-b266-84a97eab7b09",
   "metadata": {},
   "outputs": [],
   "source": [
    "# Calculate the annual returns\n",
    "sp500[\"Year\"] = sp500.index.year\n",
    "sp500[\"Annual Return\"] = sp500[\"Adj Close\"].pct_change(periods=252)"
   ]
  },
  {
   "cell_type": "code",
   "execution_count": 18,
   "id": "5ec8617a-0793-4f5d-bebc-969b712944aa",
   "metadata": {},
   "outputs": [],
   "source": [
    "# Define the US election years \n",
    "election_years = {1952, 1956, 1960, 1964, 1968, 1972, 1976, 1980, 1984, 1988, 1992, 1996, 2000, 2004, 2008, 2012, 2016, 2020, 2024}"
   ]
  },
  {
   "cell_type": "code",
   "execution_count": 20,
   "id": "ebca21e8-8c4c-466e-90a4-d2c6a3aee37f",
   "metadata": {},
   "outputs": [],
   "source": [
    "# Categorize the years\n",
    "sp500[\"Election Year\"] = sp500[\"Year\"].apply(lambda x: \"Election year\" if x in election_years else \"Non Election Year\")"
   ]
  },
  {
   "cell_type": "code",
   "execution_count": 21,
   "id": "e3760661-afb0-4aaf-a6da-aeffdcf5e129",
   "metadata": {},
   "outputs": [],
   "source": [
    "# Group by Election year and calculate the average returns\n",
    "average_returns = sp500.groupby(\"Election Year\")[\"Annual Return\"].mean()"
   ]
  },
  {
   "cell_type": "code",
   "execution_count": 22,
   "id": "c9938605-bd5a-4553-9951-c0612a0403f3",
   "metadata": {},
   "outputs": [
    {
     "name": "stdout",
     "output_type": "stream",
     "text": [
      "Average S&P500 Returns:\n",
      "Election Year\n",
      "Election year        0.082784\n",
      "Non Election Year    0.089665\n",
      "Name: Annual Return, dtype: float64\n"
     ]
    }
   ],
   "source": [
    "print(\"Average S&P500 Returns:\")\n",
    "print(average_returns)"
   ]
  },
  {
   "cell_type": "code",
   "execution_count": 24,
   "id": "7b3ecf22-5288-47fb-9c02-6db0c006ef93",
   "metadata": {},
   "outputs": [
    {
     "data": {
      "image/png": "[encoded data removed]",
      "text/plain": [
       "<Figure size 640x480 with 1 Axes>"
      ]
     },
     "metadata": {},
     "output_type": "display_data"
    }
   ],
   "source": [
    "# Visualize the results \n",
    "average_returns.plot(kind=\"bar\", title=\"Average S&P500 Returns\", color=[\"red\", \"blue\"])\n",
    "plt.xlabel(\"Year Type\")\n",
    "plt.ylabel(\"Average Annual Return\")\n",
    "plt.show()"
   ]
  },
  {
   "cell_type": "code",
   "execution_count": null,
   "id": "3614447a-55a9-4b6c-9fdf-e8dcc411fcdc",
   "metadata": {},
   "outputs": [],
   "source": []
  }
 ],
 "metadata": {
  "kernelspec": {
   "display_name": "Python 3 (ipykernel)",
   "language": "python",
   "name": "python3"
  },
  "language_info": {
   "codemirror_mode": {
    "name": "ipython",
    "version": 3
   },
   "file_extension": ".py",
   "mimetype": "text/x-python",
   "name": "python",
   "nbconvert_exporter": "python",
   "pygments_lexer": "ipython3",
   "version": "3.12.7"
  }
 },
 "nbformat": 4,
 "nbformat_minor": 5
}
