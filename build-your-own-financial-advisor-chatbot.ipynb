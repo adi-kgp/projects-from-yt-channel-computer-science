{
 "cells": [
  {
   "cell_type": "markdown",
   "id": "c2a9b2f6-6f7f-4d49-86da-439806b23b5e",
   "metadata": {},
   "source": [
    "## Start your own Financial Advisor Chatbot"
   ]
  },
  {
   "cell_type": "code",
   "execution_count": 1,
   "id": "c427408f-d92b-48d4-a777-d62c81248d3a",
   "metadata": {},
   "outputs": [],
   "source": [
    "# Import the modules\n",
    "import nltk\n",
    "from nltk.chat.util import Chat, reflections"
   ]
  },
  {
   "cell_type": "code",
   "execution_count": 5,
   "id": "cb06fb10-80b4-4d4d-97f2-67e9681c13ab",
   "metadata": {},
   "outputs": [],
   "source": [
    "# Define the pairs of patterns and responses\n",
    "pairs = [    \n",
    "    [\n",
    "        r\"my name is {.*}\",\n",
    "        [\"Hello %1, How are you today?\",]\n",
    "    ],\n",
    "    [\n",
    "        r\"hi|hey|hello\",\n",
    "        [\"Hello\", \"Hey there\",]\n",
    "    ],\n",
    "    [\n",
    "        r\"(.*)stock market(.*)\",\n",
    "        [\"The stock market is where shares of public companies are bought and sold. It's essential to do thorough research before investing.\"]\n",
    "    ],\n",
    "    [\n",
    "        r\"(.*)investment options(.*)\",\n",
    "        [\"Some popular investment options include, stocks, bonds, mutual funds, and real-estate. It's crucial to diversify your investments.\"]\n",
    "    ],\n",
    "    [\n",
    "        r\"(.*)save money(.*)\",\n",
    "        [\"To save money, create a budget, reduce unnecessary expenses, and set financial goals. Consider using a savings account with good interest rates.\"]\n",
    "    ],\n",
    "    [\n",
    "        r\"(.*)retirement plan(.*)\",\n",
    "        [\"Retirement planning involves determining your retirement goals and creating a strategy to achieve them. Consider options like 401k plans, IRA,s, and other retirement accounts.\"]\n",
    "    ],\n",
    "    [\n",
    "        r\"(.*)credit cards(.*)\",\n",
    "        [\"Your credit score reflects your credit worthiness. To improve it, pay your bills on time, keep your credit card balances low, and avoid opening many new accounts.\"]\n",
    "    ],\n",
    "    [\n",
    "        r\"quit\",\n",
    "        [\"Goodbye! It was nice talking to you.\"]\n",
    "    ],\n",
    "    [\n",
    "        r\"(.*)\",\n",
    "        [\"I am here to help with finance. Can you please ask your question in a different way.\"]\n",
    "    ]\n",
    "]"
   ]
  },
  {
   "cell_type": "code",
   "execution_count": 6,
   "id": "2fa38a37-350b-4fde-88e6-f67d308c28e1",
   "metadata": {},
   "outputs": [],
   "source": [
    "# Create the chatbot\n",
    "finance_chatbot = Chat(pairs, reflections)"
   ]
  },
  {
   "cell_type": "code",
   "execution_count": 7,
   "id": "83ca686d-1ea4-466f-b270-d22f5bc2ec7a",
   "metadata": {},
   "outputs": [
    {
     "name": "stdout",
     "output_type": "stream",
     "text": [
      "Hello! I am a finance chatbot. How can I help you today?\n"
     ]
    },
    {
     "name": "stdin",
     "output_type": "stream",
     "text": [
      "> What are my investment options?\n"
     ]
    },
    {
     "name": "stdout",
     "output_type": "stream",
     "text": [
      "Some popular investment options include, stocks, bonds, mutual funds, and real-estate. It's crucial to diversify your investments.\n"
     ]
    },
    {
     "name": "stdin",
     "output_type": "stream",
     "text": [
      "> quit\n"
     ]
    },
    {
     "name": "stdout",
     "output_type": "stream",
     "text": [
      "Goodbye! It was nice talking to you.\n"
     ]
    }
   ],
   "source": [
    "# Start the conversation\n",
    "print(\"Hello! I am a finance chatbot. How can I help you today?\")\n",
    "finance_chatbot.converse()"
   ]
  },
  {
   "cell_type": "code",
   "execution_count": null,
   "id": "3865e802-a436-40de-ab74-6833fd04c4c3",
   "metadata": {},
   "outputs": [],
   "source": []
  },
  {
   "cell_type": "code",
   "execution_count": null,
   "id": "57a1dcdc-51a2-4281-ac32-10917a949d57",
   "metadata": {},
   "outputs": [],
   "source": []
  },
  {
   "cell_type": "code",
   "execution_count": null,
   "id": "ad09265a-9e88-466d-a083-a0e3c4077568",
   "metadata": {},
   "outputs": [],
   "source": []
  }
 ],
 "metadata": {
  "kernelspec": {
   "display_name": "Python 3 (ipykernel)",
   "language": "python",
   "name": "python3"
  },
  "language_info": {
   "codemirror_mode": {
    "name": "ipython",
    "version": 3
   },
   "file_extension": ".py",
   "mimetype": "text/x-python",
   "name": "python",
   "nbconvert_exporter": "python",
   "pygments_lexer": "ipython3",
   "version": "3.12.2"
  }
 },
 "nbformat": 4,
 "nbformat_minor": 5
}
