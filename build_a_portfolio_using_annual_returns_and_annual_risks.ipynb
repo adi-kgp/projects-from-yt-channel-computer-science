{
 "cells": [
  {
   "cell_type": "markdown",
   "id": "daaec835-fe14-4915-a6dd-97f497e64d9c",
   "metadata": {},
   "source": [
    "### Building a Portfolio using Annual Returns and Annual Risks"
   ]
  },
  {
   "cell_type": "code",
   "execution_count": 3,
   "id": "4ba9a523-f718-49a1-8720-a47e5f5d6f22",
   "metadata": {},
   "outputs": [],
   "source": [
    "# Description: This program uses annual returns and annural risks to create or build a portfolio"
   ]
  },
  {
   "cell_type": "code",
   "execution_count": 4,
   "id": "3eaebb48-5328-4f27-8307-a0301e3d91d8",
   "metadata": {},
   "outputs": [],
   "source": [
    "# Import the necessary libraries\n",
    "import pandas as pd\n",
    "import numpy as np\n",
    "import yfinance as yf\n",
    "import matplotlib.pyplot as plt\n",
    "import math"
   ]
  },
  {
   "cell_type": "code",
   "execution_count": null,
   "id": "d89f9b05-19ca-491b-9e2c-f5f90cf39c60",
   "metadata": {},
   "outputs": [],
   "source": [
    "# Download the data\n",
    "df = yf.download(tickers=[''], start='', end='')"
   ]
  }
 ],
 "metadata": {
  "kernelspec": {
   "display_name": "Python 3 (ipykernel)",
   "language": "python",
   "name": "python3"
  },
  "language_info": {
   "codemirror_mode": {
    "name": "ipython",
    "version": 3
   },
   "file_extension": ".py",
   "mimetype": "text/x-python",
   "name": "python",
   "nbconvert_exporter": "python",
   "pygments_lexer": "ipython3",
   "version": "3.12.7"
  }
 },
 "nbformat": 4,
 "nbformat_minor": 5
}
